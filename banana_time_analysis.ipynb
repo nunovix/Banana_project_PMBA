{
 "cells": [
  {
   "cell_type": "code",
   "execution_count": 2,
   "metadata": {},
   "outputs": [],
   "source": [
    "import cv2\n",
    "import os"
   ]
  },
  {
   "cell_type": "code",
   "execution_count": 7,
   "metadata": {},
   "outputs": [
    {
     "name": "stdout",
     "output_type": "stream",
     "text": [
      "['t0_day0 (1).jpg', 't0_day0 (2).jpg', 't0_day0 (3).jpg', 't0_day0 (4).jpg', 't0_day0 (5).jpg', 't0_day0 (6).jpg', 't0_day0 (7).jpg', 't0_day1 (1).jpg', 't0_day1 (2).jpg', 't0_day1 (3).jpg', 't0_day1 (4).jpg', 't0_day1 (5).jpg', 't0_day1 (6).jpg', 't0_day2 (1).jpg', 't0_day2 (2).jpg', 't0_day2 (3).jpg', 't0_day2 (4).jpg', 't0_day2 (5).jpg', 't1_day0 (1).jpg', 't1_day0 (2).jpg', 't1_day0 (3).jpg', 't1_day0 (4).jpg', 't1_day1 (1).jpg', 't1_day1 (2).jpg', 't1_day1 (3).jpg', 't1_day1 (4).jpg', 't1_day2 (1).jpg', 't1_day2 (2).jpg', 't1_day2 (3).jpg', 't1_day2 (4).jpg', 't2_day0 (1).jpg', 't2_day0 (2).jpg', 't2_day0 (3).jpg', 't2_day0 (4).jpg', 't2_day0 (5).jpg', 't2_day1 (1).jpg', 't2_day1 (2).jpg', 't2_day1 (3).jpg', 't2_day1 (4).jpg', 't2_day2 (1).jpg', 't2_day2 (2).jpg', 't2_day2 (3).jpg', 't3_day0 (1).jpg', 't3_day0 (2).jpg', 't3_day0 (3).jpg', 't3_day0 (4).jpg', 't3_day1 (1).jpg', 't3_day1 (2).jpg', 't3_day1 (3).jpg', 't3_day1 (4).jpg', 't3_day2 (1).jpg', 't3_day2 (2).jpg', 't3_day2 (3).jpg', 't4_day0 (1).jpg', 't4_day0 (2).jpg', 't4_day0 (3).jpg', 't4_day0 (4).jpg', 't4_day0 (5).jpg', 't4_day0 (6).jpg', 't4_day0 (7).jpg', 't4_day1 (1).jpg', 't4_day1 (2).jpg', 't4_day1 (3).jpg', 't4_day1 (4).jpg', 't4_day2 (1).jpg', 't4_day2 (2).jpg', 't4_day2 (3).jpg', 't5_day0 (1).jpg', 't5_day0 (2).jpg', 't5_day0 (3).jpg', 't5_day0 (4).jpg', 't5_day0 (5).jpg', 't5_day0 (6).jpg', 't5_day0 (7).jpg', 't5_day1 (1).jpg', 't5_day1 (2).jpg', 't5_day1 (3).jpg', 't5_day1 (4).jpg', 't5_day2 (1).jpg', 't5_day2 (2).jpg', 't5_day2 (3).jpg', 't5_day2 (4).jpg', 't6_day0 (1).jpg', 't6_day0 (2).jpg', 't6_day0 (3).jpg', 't6_day0 (4).jpg', 't6_day0 (5).jpg', 't6_day0 (6).jpg', 't6_day0 (7).jpg', 't6_day0 (8).jpg', 't6_day1 (1).jpg', 't6_day1 (2).jpg', 't6_day1 (3).jpg', 't6_day1 (4).jpg', 't6_day1 (5).jpg', 't6_day2 (1).jpg', 't6_day2 (2).jpg', 't6_day2 (3).jpg', 't6_day2 (4).jpg', 't6_day2 (5).jpg']\n"
     ]
    }
   ],
   "source": [
    "path = 'Bananas_time_dataset'\n",
    "imagens_time = []\n",
    "for folder_path, folders, files in os.walk(path):\n",
    "    print(files)\n"
   ]
  },
  {
   "cell_type": "code",
   "execution_count": 13,
   "metadata": {},
   "outputs": [],
   "source": [
    "imagens_time = []\n",
    "for i in range(len(files)):\n",
    "    imagens_time.append(path+\"/\"+str(files[i]))"
   ]
  },
  {
   "cell_type": "code",
   "execution_count": 14,
   "metadata": {},
   "outputs": [
    {
     "name": "stdout",
     "output_type": "stream",
     "text": [
      "['Bananas_time_dataset/t0_day0 (1).jpg', 'Bananas_time_dataset/t0_day0 (2).jpg', 'Bananas_time_dataset/t0_day0 (3).jpg', 'Bananas_time_dataset/t0_day0 (4).jpg', 'Bananas_time_dataset/t0_day0 (5).jpg', 'Bananas_time_dataset/t0_day0 (6).jpg', 'Bananas_time_dataset/t0_day0 (7).jpg', 'Bananas_time_dataset/t0_day1 (1).jpg', 'Bananas_time_dataset/t0_day1 (2).jpg', 'Bananas_time_dataset/t0_day1 (3).jpg', 'Bananas_time_dataset/t0_day1 (4).jpg', 'Bananas_time_dataset/t0_day1 (5).jpg', 'Bananas_time_dataset/t0_day1 (6).jpg', 'Bananas_time_dataset/t0_day2 (1).jpg', 'Bananas_time_dataset/t0_day2 (2).jpg', 'Bananas_time_dataset/t0_day2 (3).jpg', 'Bananas_time_dataset/t0_day2 (4).jpg', 'Bananas_time_dataset/t0_day2 (5).jpg', 'Bananas_time_dataset/t1_day0 (1).jpg', 'Bananas_time_dataset/t1_day0 (2).jpg', 'Bananas_time_dataset/t1_day0 (3).jpg', 'Bananas_time_dataset/t1_day0 (4).jpg', 'Bananas_time_dataset/t1_day1 (1).jpg', 'Bananas_time_dataset/t1_day1 (2).jpg', 'Bananas_time_dataset/t1_day1 (3).jpg', 'Bananas_time_dataset/t1_day1 (4).jpg', 'Bananas_time_dataset/t1_day2 (1).jpg', 'Bananas_time_dataset/t1_day2 (2).jpg', 'Bananas_time_dataset/t1_day2 (3).jpg', 'Bananas_time_dataset/t1_day2 (4).jpg', 'Bananas_time_dataset/t2_day0 (1).jpg', 'Bananas_time_dataset/t2_day0 (2).jpg', 'Bananas_time_dataset/t2_day0 (3).jpg', 'Bananas_time_dataset/t2_day0 (4).jpg', 'Bananas_time_dataset/t2_day0 (5).jpg', 'Bananas_time_dataset/t2_day1 (1).jpg', 'Bananas_time_dataset/t2_day1 (2).jpg', 'Bananas_time_dataset/t2_day1 (3).jpg', 'Bananas_time_dataset/t2_day1 (4).jpg', 'Bananas_time_dataset/t2_day2 (1).jpg', 'Bananas_time_dataset/t2_day2 (2).jpg', 'Bananas_time_dataset/t2_day2 (3).jpg', 'Bananas_time_dataset/t3_day0 (1).jpg', 'Bananas_time_dataset/t3_day0 (2).jpg', 'Bananas_time_dataset/t3_day0 (3).jpg', 'Bananas_time_dataset/t3_day0 (4).jpg', 'Bananas_time_dataset/t3_day1 (1).jpg', 'Bananas_time_dataset/t3_day1 (2).jpg', 'Bananas_time_dataset/t3_day1 (3).jpg', 'Bananas_time_dataset/t3_day1 (4).jpg', 'Bananas_time_dataset/t3_day2 (1).jpg', 'Bananas_time_dataset/t3_day2 (2).jpg', 'Bananas_time_dataset/t3_day2 (3).jpg', 'Bananas_time_dataset/t4_day0 (1).jpg', 'Bananas_time_dataset/t4_day0 (2).jpg', 'Bananas_time_dataset/t4_day0 (3).jpg', 'Bananas_time_dataset/t4_day0 (4).jpg', 'Bananas_time_dataset/t4_day0 (5).jpg', 'Bananas_time_dataset/t4_day0 (6).jpg', 'Bananas_time_dataset/t4_day0 (7).jpg', 'Bananas_time_dataset/t4_day1 (1).jpg', 'Bananas_time_dataset/t4_day1 (2).jpg', 'Bananas_time_dataset/t4_day1 (3).jpg', 'Bananas_time_dataset/t4_day1 (4).jpg', 'Bananas_time_dataset/t4_day2 (1).jpg', 'Bananas_time_dataset/t4_day2 (2).jpg', 'Bananas_time_dataset/t4_day2 (3).jpg', 'Bananas_time_dataset/t5_day0 (1).jpg', 'Bananas_time_dataset/t5_day0 (2).jpg', 'Bananas_time_dataset/t5_day0 (3).jpg', 'Bananas_time_dataset/t5_day0 (4).jpg', 'Bananas_time_dataset/t5_day0 (5).jpg', 'Bananas_time_dataset/t5_day0 (6).jpg', 'Bananas_time_dataset/t5_day0 (7).jpg', 'Bananas_time_dataset/t5_day1 (1).jpg', 'Bananas_time_dataset/t5_day1 (2).jpg', 'Bananas_time_dataset/t5_day1 (3).jpg', 'Bananas_time_dataset/t5_day1 (4).jpg', 'Bananas_time_dataset/t5_day2 (1).jpg', 'Bananas_time_dataset/t5_day2 (2).jpg', 'Bananas_time_dataset/t5_day2 (3).jpg', 'Bananas_time_dataset/t5_day2 (4).jpg', 'Bananas_time_dataset/t6_day0 (1).jpg', 'Bananas_time_dataset/t6_day0 (2).jpg', 'Bananas_time_dataset/t6_day0 (3).jpg', 'Bananas_time_dataset/t6_day0 (4).jpg', 'Bananas_time_dataset/t6_day0 (5).jpg', 'Bananas_time_dataset/t6_day0 (6).jpg', 'Bananas_time_dataset/t6_day0 (7).jpg', 'Bananas_time_dataset/t6_day0 (8).jpg', 'Bananas_time_dataset/t6_day1 (1).jpg', 'Bananas_time_dataset/t6_day1 (2).jpg', 'Bananas_time_dataset/t6_day1 (3).jpg', 'Bananas_time_dataset/t6_day1 (4).jpg', 'Bananas_time_dataset/t6_day1 (5).jpg', 'Bananas_time_dataset/t6_day2 (1).jpg', 'Bananas_time_dataset/t6_day2 (2).jpg', 'Bananas_time_dataset/t6_day2 (3).jpg', 'Bananas_time_dataset/t6_day2 (4).jpg', 'Bananas_time_dataset/t6_day2 (5).jpg']\n"
     ]
    }
   ],
   "source": [
    "print(imagens_time)"
   ]
  },
  {
   "cell_type": "code",
   "execution_count": 1,
   "metadata": {},
   "outputs": [],
   "source": [
    "def get_cnn_result(image):\n",
    "    outputs = np.array(len(image), 4)\n",
    "    \n",
    "    "
   ]
  }
 ],
 "metadata": {
  "kernelspec": {
   "display_name": "Python 3",
   "language": "python",
   "name": "python3"
  },
  "language_info": {
   "codemirror_mode": {
    "name": "ipython",
    "version": 3
   },
   "file_extension": ".py",
   "mimetype": "text/x-python",
   "name": "python",
   "nbconvert_exporter": "python",
   "pygments_lexer": "ipython3",
   "version": "3.8.15"
  },
  "orig_nbformat": 4
 },
 "nbformat": 4,
 "nbformat_minor": 2
}
